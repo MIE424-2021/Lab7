{
 "cells": [
  {
   "cell_type": "code",
   "execution_count": 2,
   "id": "casual-christian",
   "metadata": {},
   "outputs": [
    {
     "name": "stdout",
     "output_type": "stream",
     "text": [
      "Requirement already satisfied: numpy in /opt/anaconda3/envs/MIE424/lib/python3.8/site-packages (1.19.2)\n",
      "Requirement already satisfied: cvxpy in /opt/anaconda3/envs/MIE424/lib/python3.8/site-packages (1.1.11)\n",
      "Requirement already satisfied: ecos>=2 in /opt/anaconda3/envs/MIE424/lib/python3.8/site-packages (from cvxpy) (2.0.7.post1)\n",
      "Requirement already satisfied: scs>=1.1.6 in /opt/anaconda3/envs/MIE424/lib/python3.8/site-packages (from cvxpy) (2.1.2)\n",
      "Requirement already satisfied: scipy>=1.1.0 in /opt/anaconda3/envs/MIE424/lib/python3.8/site-packages (from cvxpy) (1.5.2)\n",
      "Requirement already satisfied: osqp>=0.4.1 in /opt/anaconda3/envs/MIE424/lib/python3.8/site-packages (from cvxpy) (0.6.2.post0)\n",
      "Requirement already satisfied: numpy>=1.15 in /opt/anaconda3/envs/MIE424/lib/python3.8/site-packages (from cvxpy) (1.19.2)\n",
      "Requirement already satisfied: qdldl in /opt/anaconda3/envs/MIE424/lib/python3.8/site-packages (from osqp>=0.4.1->cvxpy) (0.1.5.post0)\n"
     ]
    }
   ],
   "source": [
    "!pip install numpy\n",
    "!pip install cvxpy"
   ]
  },
  {
   "cell_type": "code",
   "execution_count": 3,
   "id": "legendary-error",
   "metadata": {},
   "outputs": [],
   "source": [
    "import cvxpy as cp\n",
    "import numpy as np\n",
    "import matplotlib.pyplot as plt"
   ]
  },
  {
   "cell_type": "code",
   "execution_count": 4,
   "id": "separate-applicant",
   "metadata": {},
   "outputs": [
    {
     "name": "stdout",
     "output_type": "stream",
     "text": [
      "\n",
      "The optimal value is -4.341674835696109\n",
      "A solution x is\n",
      "[ 0.86540763 -2.3015387 ]\n"
     ]
    },
    {
     "data": {
      "image/png": "[encoded data removed]",
      "text/plain": [
       "<Figure size 432x288 with 1 Axes>"
      ]
     },
     "metadata": {
      "needs_background": "light"
     },
     "output_type": "display_data"
    }
   ],
   "source": [
    "#2-d cases fix for the previous plots:\n",
    "# Generate a random non-trivial linear program.\n",
    "#2-d cases fix for the previous plots:\n",
    "# Generate a random non-trivial linear program.\n",
    "# tol = 1e-15\n",
    "m = 4\n",
    "n = 2\n",
    "np.random.seed(1)\n",
    "s0 = np.random.randn(m)\n",
    "lamb0 = np.maximum(-s0, 0)\n",
    "s0 = np.maximum(s0, 0)\n",
    "x0 = np.random.randn(n)\n",
    "A = np.random.randn(m, n)\n",
    "b = A @ x0 + s0\n",
    "c = -A.T @ lamb0\n",
    "\n",
    "# Define and solve the CVXPY problem.\n",
    "x = cp.Variable(n)\n",
    "prob = cp.Problem(cp.Minimize(c.T@x),\n",
    "                 [A @ x <= b])\n",
    "#prob.solve(feastol=tol, reltol=tol, abstol=tol, verbose=True)\n",
    "prob.solve()\n",
    "\n",
    "# Print result.\n",
    "print(\"\\nThe optimal value is\", prob.value)\n",
    "print(\"A solution x is\")\n",
    "print(x.value)\n",
    "\n",
    "lin = np.linspace(-2,2,100)\n",
    "y = []\n",
    "for i in range(m):\n",
    "  y.append(-A[i,0]//A[i,1]*lin + b[i]/A[i,1])\n",
    "  plt.plot(lin, y[i])\n",
    "\n",
    "plt.plot(x.value[0],x.value[1],'x') \n",
    "\n",
    "plt.show()"
   ]
  },
  {
   "cell_type": "markdown",
   "id": "permanent-archives",
   "metadata": {},
   "source": [
    "\n",
    "Definition 1: Polyhedron\n",
    "\n",
    "A polyhedron is a convex set of the form $\\{\\mathbf{x} \\in \\mathbb{R}^n | \\mathbf{Ax} \\geq \\mathbf{b}\\}$ where $\\mathbf{A}$ is an $m \\times n$ matrix and $\\mathbf{b}$ is a vector in $\\mathbb{R}^m$.\n",
    "\n",
    "\n",
    "We can see how that closely relates to a linear program, as all linear programs can be expressed with the constraints in the form $\\mathbf{Ax} \\geq \\mathbf{b}$.\n",
    "\n",
    "One thing we saw earlier was that the optimal solution always ends up in a \"corner\" of the constraint set. We can define this in two different ways.\n",
    "\n",
    "Definition 2: Extreme point\n",
    "\n",
    "\n",
    "Suppose $P\\subset \\mathbb{R}^n$ is a convex set. $\\mathbf{x} \\in P$ is an extreme point if $\\nexists \\mathbf{y, z} \\in P, \\lambda \\in [0, 1]$ such that $\\mathbf{y, z} \\neq \\mathbf{x}, \\mathbf{x}=\\lambda\\mathbf{y}+(1-\\lambda)\\mathbf{z}$\n",
    "\n",
    "\n",
    "Definition 3: Vertex\n",
    "\n",
    "\n",
    "Suppose $P\\subset \\mathbb{R}^n$ is a convex set. $\\mathbf{x} \\in P$ is a vertex if $\\exists \\mathbf{c}$ such that $\\mathbf{y} \\neq \\mathbf{x}, \\mathbf{c^Tx} < \\mathbf{c^Ty} \\quad \\forall \\mathbf{y} \\in P$\n"
   ]
  },
  {
   "cell_type": "code",
   "execution_count": 5,
   "id": "mexican-disability",
   "metadata": {},
   "outputs": [],
   "source": [
    "import jax\n",
    "import jax.numpy as jnp"
   ]
  },
  {
   "cell_type": "code",
   "execution_count": 6,
   "id": "contemporary-treatment",
   "metadata": {},
   "outputs": [
    {
     "name": "stderr",
     "output_type": "stream",
     "text": [
      "WARNING:absl:No GPU/TPU found, falling back to CPU. (Set TF_CPP_MIN_LOG_LEVEL=0 and rerun for more info.)\n"
     ]
    },
    {
     "data": {
      "image/png": "[encoded data removed]",
      "text/plain": [
       "<Figure size 432x288 with 1 Axes>"
      ]
     },
     "metadata": {
      "needs_background": "light"
     },
     "output_type": "display_data"
    }
   ],
   "source": [
    "f = lambda x: x**2 - 3*x + 1\n",
    "\n",
    "x = jnp.linspace(-5, 5, 100)\n",
    "\n",
    "dfdx = jax.grad(f)\n",
    "df2dx = jax.grad(dfdx)\n",
    "\n",
    "plt.plot(x, list(map(f,x)))\n",
    "plt.plot(x, list(map(dfdx,x)))\n",
    "plt.plot(x, list(map(df2dx,x)))\n",
    "plt.show()\n"
   ]
  },
  {
   "cell_type": "markdown",
   "id": "isolated-anthropology",
   "metadata": {},
   "source": [
    "#Convexity and Hessians\n",
    "\n",
    "If a function is twice differentiable, we have an easier way to determine if a function is convex. First, let us define the Hessian.\n",
    "\n",
    "$$\\nabla f(\\mathbf{x}) = \\begin{bmatrix} \\frac{\\partial f}{\\partial x_1} \\\\ \\vdots \\\\ \\frac{\\partial f}{\\partial x_n} \\end{bmatrix}$$\\\\\n",
    "$$H(\\mathbf{x}) = \\nabla(\\nabla f(\\mathbf{x})) = \\begin{bmatrix} \\frac{\\partial^2 f}{\\partial x_1^2} & ... & \\frac{\\partial^2 f}{\\partial x_1x_n} \\\\ \\vdots & \\ddots & \\vdots \\\\ \\frac{\\partial^2 f}{\\partial x_nx_1} & ... & \\frac{\\partial^2 f}{\\partial x_n^2} \\end{bmatrix}$$\n",
    "\n",
    "Note that the Hessian is always symmetric.\n",
    "\n",
    "A property of the Hessian is that $f(\\mathbf{x})$ is convex if and only if $\\mathbf{y}^TH(\\mathbf{x})\\mathbf{y} \\geq 0,\\forall \\mathbf{x, y} \\neq \\mathbf{0} \\in \\mathbb{R}^n$. One way to show that this is true is to show that all the eigenvalues are positive.\n",
    "\n",
    "Any symmetric matrix with this property is called positive definite."
   ]
  },
  {
   "cell_type": "markdown",
   "id": "applicable-technique",
   "metadata": {},
   "source": [
    "# Showing the L2 Norm is convex\n",
    "\n",
    "In lecture, we spoke about how all norms are convex. In this lab, we will show one way to prove that the l-2 norm is convex. First we will show by hand, and then check the results with our code.\n"
   ]
  },
  {
   "cell_type": "code",
   "execution_count": 7,
   "id": "clear-magnitude",
   "metadata": {},
   "outputs": [
    {
     "name": "stdout",
     "output_type": "stream",
     "text": [
      "[[2. 0. 0.]\n",
      " [0. 2. 0.]\n",
      " [0. 0. 2.]]\n"
     ]
    }
   ],
   "source": [
    "def hessian(f):\n",
    "  return jax.jacfwd(jax.grad(f))\n",
    "\n",
    "def f(x):\n",
    "  return jnp.dot(x, x)\n",
    "\n",
    "H = hessian(f)(jnp.array([1., 2., 3.]))\n",
    "print(H)\n",
    "\n"
   ]
  },
  {
   "cell_type": "code",
   "execution_count": 8,
   "id": "minus-fault",
   "metadata": {},
   "outputs": [
    {
     "name": "stdout",
     "output_type": "stream",
     "text": [
      "[2.+0.j 2.+0.j 2.+0.j]\n"
     ]
    }
   ],
   "source": [
    "eig = jnp.linalg.eig(H)[0]\n",
    "print(eig)"
   ]
  },
  {
   "cell_type": "code",
   "execution_count": null,
   "id": "matched-diameter",
   "metadata": {},
   "outputs": [],
   "source": []
  }
 ],
 "metadata": {
  "kernelspec": {
   "display_name": "Python 3",
   "language": "python",
   "name": "python3"
  },
  "language_info": {
   "codemirror_mode": {
    "name": "ipython",
    "version": 3
   },
   "file_extension": ".py",
   "mimetype": "text/x-python",
   "name": "python",
   "nbconvert_exporter": "python",
   "pygments_lexer": "ipython3",
   "version": "3.8.5"
  }
 },
 "nbformat": 4,
 "nbformat_minor": 5
}
